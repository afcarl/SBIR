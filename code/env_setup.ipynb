{
 "cells": [
  {
   "cell_type": "code",
   "execution_count": 1,
   "metadata": {
    "collapsed": true
   },
   "outputs": [],
   "source": [
    "import os\n",
    "import numpy as np\n",
    "import matplotlib\n",
    "import matplotlib.pyplot as plt\n",
    "%matplotlib inline"
   ]
  },
  {
   "cell_type": "code",
   "execution_count": 2,
   "metadata": {
    "collapsed": false
   },
   "outputs": [],
   "source": [
    "from skimage import feature\n",
    "from skimage import color\n",
    "from scipy.misc import imresize,imsave"
   ]
  },
  {
   "cell_type": "code",
   "execution_count": 3,
   "metadata": {
    "collapsed": true
   },
   "outputs": [],
   "source": [
    "root_path = \"C:\\Users\\Patsorn\\Downloads\\siggraph_maybe/\"\n",
    "photo_path = root_path + \"photos\"\n",
    "output_fold = root_path+ \"list\""
   ]
  },
  {
   "cell_type": "code",
   "execution_count": 4,
   "metadata": {
    "collapsed": true
   },
   "outputs": [],
   "source": [
    "with open(output_fold+'/cat.txt','r') as my_file:\n",
    "    cat_list = [c.rstrip() for c in my_file.readlines()]\n",
    "with open(output_fold+'/image_list.txt','r') as my_file:\n",
    "    img_list = [c.rstrip() for c in my_file.readlines()]\n",
    "with open(output_fold+'/invalid_photo/invalid.txt','r') as my_file:\n",
    "    invalid = [c.rstrip() for c in my_file.readlines()]\n",
    "with open(output_fold+'/invalid_photo/ambiguous.txt','r') as my_file:\n",
    "    amb = [c.rstrip() for c in my_file.readlines()]\n",
    "with open(output_fold+'/invalid_photo/context.txt','r') as my_file:\n",
    "    cont = [c.rstrip() for c in my_file.readlines()]\n",
    "with open(output_fold+'/invalid_photo/perspective.txt','r') as my_file:\n",
    "    persp = [c.rstrip() for c in my_file.readlines()]\n",
    "with open(output_fold+'/test_img_list.txt','r') as my_file:\n",
    "    test_img_list = [c.rstrip() for c in my_file.readlines()]\n",
    "with open(output_fold+'/train_img_list.txt','r') as my_file:\n",
    "    train_img_list = [c.rstrip() for c in my_file.readlines()]"
   ]
  },
  {
   "cell_type": "code",
   "execution_count": 26,
   "metadata": {
    "collapsed": false
   },
   "outputs": [
    {
     "name": "stdout",
     "output_type": "stream",
     "text": [
      "Generating category list-- cat_id.txt\n",
      "Generating category list-- cat.txt\n"
     ]
    }
   ],
   "source": [
    "#gen cat list, only need to run once\n",
    "print \"Generating category list--\", \n",
    "cat_list = os.listdir(photo_path)\n",
    "\n",
    "f = open(output_fold+'/cat_id.txt','w')\n",
    "for i, cat in enumerate(cat_list):\n",
    "    f.write(cat+' '+str(i)+'\\n')\n",
    "f.close()\n",
    "print 'cat_id.txt'\n",
    "print \"Generating category list--\",\n",
    "cat_list = os.listdir(photo_path)\n",
    "\n",
    "f = open(output_fold+'/cat.txt','w')\n",
    "for i, cat in enumerate(cat_list):\n",
    "    f.write(cat+'\\n')\n",
    "f.close()\n",
    "print 'cat.txt'"
   ]
  },
  {
   "cell_type": "code",
   "execution_count": 16,
   "metadata": {
    "collapsed": false
   },
   "outputs": [],
   "source": [
    "#load up cat list\n",
    "#os.listdir(photo_path) would work as well\n",
    "with open(output_fold+'/cat.txt','r') as my_file:\n",
    "    cat_list = [c.rstrip() for c in my_file.readlines()]"
   ]
  },
  {
   "cell_type": "code",
   "execution_count": 25,
   "metadata": {
    "collapsed": false,
    "scrolled": true
   },
   "outputs": [
    {
     "name": "stdout",
     "output_type": "stream",
     "text": [
      "Generating invalid list of sketches-- /invalid.txt\n"
     ]
    }
   ],
   "source": [
    "#generate invalid list\n",
    "annotations = ['Invalid/error','Unidentifiable/ambiguous','Context','Perspective']\n",
    "dict_ann = {}\n",
    "for i,ann in enumerate(annotations):\n",
    "    dict_ann[ann] = i\n",
    "ann_fold = root_path +'svg_ann'\n",
    "invalid_fold = output_fold+'/invalid_sketch'\n",
    "print \"Generating invalid list of sketches--\", \n",
    "cur_mode = -1\n",
    "f_invalid = open(invalid_fold+'/invalid.txt','w')\n",
    "f_amb = open(invalid_fold+'/ambiguous.txt','w')\n",
    "f_cont = open(invalid_fold+'/context.txt','w')\n",
    "f_persp = open(invalid_fold+'/perspective.txt','w')\n",
    "for i, cat in enumerate(cat_list):\n",
    "    if os.path.isfile(ann_fold+'/'+cat+'/invalid.txt'):\n",
    "        fr = open(ann_fold+'/'+cat+'/invalid.txt','r')\n",
    "        for line in fr:\n",
    "            if line.rstrip() in annotations:\n",
    "                cur_mode = dict_ann[line.rstrip()]\n",
    "            elif (not cur_mode == -1) and (line.startswith('n')):\n",
    "                if cur_mode==0:\n",
    "                    f_invalid.write(cat+'/'+line.rstrip()+'.png\\n')\n",
    "                elif cur_mode == 1:\n",
    "                    f_amb.write(cat+'/'+line.rstrip()+'.png\\n')\n",
    "                elif cur_mode == 2:\n",
    "                    f_cont.write(cat+'/'+line.rstrip()+'.png\\n')\n",
    "                elif cur_mode == 3:\n",
    "                    f_persp.write(cat+'/'+line.rstrip()+'.png\\n')               \n",
    "        fr.close()\n",
    "f_invalid.close()\n",
    "f_amb.close()\n",
    "f_cont.close()\n",
    "f_persp.close()\n",
    "print '/invalid.txt'"
   ]
  },
  {
   "cell_type": "code",
   "execution_count": 30,
   "metadata": {
    "collapsed": false
   },
   "outputs": [
    {
     "name": "stdout",
     "output_type": "stream",
     "text": [
      "Generating invalid list of photos-- /invalid.txt\n"
     ]
    }
   ],
   "source": [
    "#generate invalid list of photos\n",
    "annotations = ['Invalid/error','Unidentifiable/ambiguous','Context','Perspective']\n",
    "dict_ann = {}\n",
    "for i,ann in enumerate(annotations):\n",
    "    dict_ann[ann] = i\n",
    "ann_fold = root_path +'svg_ann'\n",
    "invalid_fold = output_fold+'/invalid_photo'\n",
    "print \"Generating invalid list of photos--\", \n",
    "cur_mode = -1\n",
    "invalid = []\n",
    "amb = []\n",
    "cont = []\n",
    "persp = []\n",
    "f_invalid = open(invalid_fold+'/invalid.txt','w')\n",
    "f_amb = open(invalid_fold+'/ambiguous.txt','w')\n",
    "f_cont = open(invalid_fold+'/context.txt','w')\n",
    "f_persp = open(invalid_fold+'/perspective.txt','w')\n",
    "for i, cat in enumerate(cat_list):\n",
    "    if os.path.isfile(ann_fold+'/'+cat+'/invalid.txt'):\n",
    "        fr = open(ann_fold+'/'+cat+'/invalid.txt','r')\n",
    "        for line in fr:\n",
    "            if line.rstrip() in annotations:\n",
    "                cur_mode = dict_ann[line.rstrip()]\n",
    "            elif (not cur_mode == -1) and (line.startswith('n')):\n",
    "                img_id = (line.rstrip()).split('-')[0]\n",
    "                if cur_mode==0 and img_id not in invalid:\n",
    "                    f_invalid.write(cat+'/'+img_id+'.jpg\\n')\n",
    "                    invalid.append(img_id)\n",
    "                elif cur_mode == 1 and img_id not in amb:\n",
    "                    f_amb.write(cat+'/'+img_id+'.jpg\\n')\n",
    "                    amb.append(img_id)\n",
    "                elif cur_mode == 2 and img_id not in cont:\n",
    "                    f_cont.write(cat+'/'+img_id+'.jpg\\n')\n",
    "                    cont.append(img_id)\n",
    "                elif cur_mode == 3 and img_id not in persp:\n",
    "                    f_persp.write(cat+'/'+img_id+'.jpg\\n')\n",
    "                    persp.append(img_id)\n",
    "        fr.close()\n",
    "f_invalid.close()\n",
    "f_amb.close()\n",
    "f_cont.close()\n",
    "f_persp.close()\n",
    "print '/invalid.txt'"
   ]
  },
  {
   "cell_type": "code",
   "execution_count": 37,
   "metadata": {
    "collapsed": false
   },
   "outputs": [],
   "source": [
    "#generate image list\n",
    "f = open(output_fold + '/image_list.txt','w')\n",
    "for cat in cat_list:\n",
    "    full_path = photo_path+'/'+cat\n",
    "    for photo in os.listdir(full_path):\n",
    "        rel_path = cat+'/'+photo\n",
    "        f.write(rel_path+'\\n')\n",
    "f.close()"
   ]
  },
  {
   "cell_type": "code",
   "execution_count": 86,
   "metadata": {
    "collapsed": false
   },
   "outputs": [],
   "source": [
    "#load image list\n",
    "with open(output_fold+'/image_list.txt','r') as my_file:\n",
    "    img_list = [c.rstrip() for c in my_file.readlines()]"
   ]
  },
  {
   "cell_type": "code",
   "execution_count": 57,
   "metadata": {
    "collapsed": false
   },
   "outputs": [],
   "source": [
    "#save canny edge version of photos\n",
    "canny_out = root_path+\"canny/\"\n",
    "\n",
    "for path in img_list:\n",
    "    full_path = photo_path + '/'+path\n",
    "    img = color.rgb2gray(plt.imread(full_path.rstrip()));\n",
    "    img = imresize(img,[256,256])\n",
    "    canny = feature.canny(img,sigma=2)\n",
    "    if not os.path.exists(canny_out+path.split('/')[0]):\n",
    "        os.makedirs(canny_out+path.split('/')[0])\n",
    "    imsave(canny_out+path.rstrip(),~canny)\n",
    "\n"
   ]
  },
  {
   "cell_type": "code",
   "execution_count": 59,
   "metadata": {
    "collapsed": false
   },
   "outputs": [],
   "source": [
    "#load invalid list \n",
    "with open(output_fold+'/invalid_photo/invalid.txt','r') as my_file:\n",
    "    invalid = [c.rstrip() for c in my_file.readlines()]\n",
    "with open(output_fold+'/invalid_photo/ambiguous.txt','r') as my_file:\n",
    "    amb = [c.rstrip() for c in my_file.readlines()]\n",
    "with open(output_fold+'/invalid_photo/context.txt','r') as my_file:\n",
    "    cont = [c.rstrip() for c in my_file.readlines()]\n",
    "with open(output_fold+'/invalid_photo/perspective.txt','r') as my_file:\n",
    "    persp = [c.rstrip() for c in my_file.readlines()]"
   ]
  },
  {
   "cell_type": "code",
   "execution_count": 7,
   "metadata": {
    "collapsed": true
   },
   "outputs": [],
   "source": [
    "#create cat dict\n",
    "index_of_cat = {}\n",
    "for i,cat in enumerate(cat_list):\n",
    "    index_of_cat[cat] = i"
   ]
  },
  {
   "cell_type": "code",
   "execution_count": 72,
   "metadata": {
    "collapsed": false
   },
   "outputs": [
    {
     "data": {
      "text/plain": [
       "28"
      ]
     },
     "execution_count": 72,
     "metadata": {},
     "output_type": "execute_result"
    }
   ],
   "source": [
    "#check number of avaiable image in each category\n",
    "cat_c = [0]*125\n",
    "for path in img_list:\n",
    "    cat = path.split('/')[0]\n",
    "    if path not in invalid and path not in cont:\n",
    "        cat_c[index_of_cat[cat]] =cat_c[index_of_cat[cat]]+1 \n",
    "min(cat_c)"
   ]
  },
  {
   "cell_type": "code",
   "execution_count": 5,
   "metadata": {
    "collapsed": true
   },
   "outputs": [],
   "source": [
    "def checkFullSketches(path,root_folder):\n",
    "    cat = path.split('/')[0]\n",
    "    img_id = path.split('/')[1][:-4]\n",
    "    sketch_list = os.listdir(root_path+'/sketches/'+cat)\n",
    "    sketch_img_list = [skg for skg in sketch_list if skg.startswith(img_id+'-') and skg.endswith('-5.png')]\n",
    "    if np.shape(sketch_img_list)[0] == 5:\n",
    "        return True\n",
    "    else:\n",
    "        return False"
   ]
  },
  {
   "cell_type": "code",
   "execution_count": 9,
   "metadata": {
    "collapsed": false
   },
   "outputs": [],
   "source": [
    "#gen test set, ideally not in any of the invalid list\n",
    "#damn, forgot to check 5 sketches\n",
    "cat_c = [0]*125\n",
    "\n",
    "f = open(output_fold+'/test_img_list.txt','w')\n",
    "for path in np.random.permutation(img_list):\n",
    "    cat = path.split('/')[0]\n",
    "    if (checkFullSketches(path,root_path) or cat=='jack-o-lantern') and path not in invalid and path not in cont and cat_c[index_of_cat[cat]]<10:\n",
    "        f.write(path+'\\n')\n",
    "        cat_c[index_of_cat[cat]] =cat_c[index_of_cat[cat]]+1 \n",
    "f.close()"
   ]
  },
  {
   "cell_type": "code",
   "execution_count": null,
   "metadata": {
    "collapsed": true
   },
   "outputs": [],
   "source": [
    "path"
   ]
  },
  {
   "cell_type": "code",
   "execution_count": 93,
   "metadata": {
    "collapsed": false
   },
   "outputs": [],
   "source": [
    "with open(output_fold+'/test_img_list.txt','r') as my_file:\n",
    "    test_img_list = [c.rstrip() for c in my_file.readlines()]"
   ]
  },
  {
   "cell_type": "code",
   "execution_count": 94,
   "metadata": {
    "collapsed": true
   },
   "outputs": [],
   "source": [
    "#gen train set, any leftover not in the test set\n",
    "\n",
    "f = open(output_fold+'/train_img_list.txt','w')\n",
    "cat_c = [0]*125\n",
    "for path in img_list:\n",
    "    if path not in test_img_list:\n",
    "        cat = path.split('/')[0]\n",
    "        f.write(path+'\\n')\n",
    "        cat_c[index_of_cat[cat]] =cat_c[index_of_cat[cat]]+1 \n",
    "f.close()"
   ]
  },
  {
   "cell_type": "code",
   "execution_count": 95,
   "metadata": {
    "collapsed": false
   },
   "outputs": [],
   "source": [
    "with open(output_fold+'/train_img_list.txt','r') as my_file:\n",
    "    train_img_list = [c.rstrip() for c in my_file.readlines()]"
   ]
  }
 ],
 "metadata": {
  "kernelspec": {
   "display_name": "Python 2",
   "language": "python",
   "name": "python2"
  },
  "language_info": {
   "codemirror_mode": {
    "name": "ipython",
    "version": 2
   },
   "file_extension": ".py",
   "mimetype": "text/x-python",
   "name": "python",
   "nbconvert_exporter": "python",
   "pygments_lexer": "ipython2",
   "version": "2.7.11"
  }
 },
 "nbformat": 4,
 "nbformat_minor": 0
}
